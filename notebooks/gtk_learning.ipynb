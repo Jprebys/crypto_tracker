{
 "cells": [
  {
   "cell_type": "code",
   "execution_count": 11,
   "id": "judicial-cooper",
   "metadata": {},
   "outputs": [],
   "source": [
    "import gi\n",
    "gi.require_version('Gtk', '3.0')\n",
    "from gi.repository import Gtk"
   ]
  },
  {
   "cell_type": "code",
   "execution_count": 16,
   "id": "reduced-combining",
   "metadata": {},
   "outputs": [],
   "source": [
    "# Define our own newWindow class. \n",
    "class newWindow(Gtk.Window): \n",
    "    def __init__(self): \n",
    "  \n",
    "        super().__init__(title =\"Hello World\") \n",
    "  \n",
    "        # Create a button widget, connect to its clicked signal \n",
    "        # and add it as child to the top-level window. \n",
    "        self.button1 = Gtk.Button(label=\"Click Here\") \n",
    "        self.button2 = Gtk.Button(label=\"Don't Click Here\")\n",
    "        self.button1.connect(\"clicked\", self.on_button_clicked) \n",
    "        self.button2.connect(\"clicked\", self.on_button_clicked) \n",
    "\n",
    "        self.add(self.button1)\n",
    "        self.add(self.button2)\n",
    "  \n",
    "    # When we click on the button this method \n",
    "    # will be called \n",
    "    def on_button_clicked(self, widget): \n",
    "        print(\"Geeks for Geeks\") \n",
    "        \n",
    "    def on_button_clicked2(self, widget):\n",
    "        print(\"you shouldn't have done that\")\n",
    "  \n",
    "  \n",
    "win = newWindow() \n",
    "win.connect(\"destroy\", Gtk.main_quit) \n",
    "win.show_all() \n",
    "Gtk.main() "
   ]
  },
  {
   "cell_type": "code",
   "execution_count": null,
   "id": "accredited-buffalo",
   "metadata": {},
   "outputs": [],
   "source": []
  }
 ],
 "metadata": {
  "kernelspec": {
   "display_name": "jakerenv",
   "language": "python",
   "name": "jakerenv"
  },
  "language_info": {
   "codemirror_mode": {
    "name": "ipython",
    "version": 3
   },
   "file_extension": ".py",
   "mimetype": "text/x-python",
   "name": "python",
   "nbconvert_exporter": "python",
   "pygments_lexer": "ipython3",
   "version": "3.8.5"
  }
 },
 "nbformat": 4,
 "nbformat_minor": 5
}
