{
 "cells": [
  {
   "cell_type": "markdown",
   "id": "paperback-philosophy",
   "metadata": {},
   "source": [
    "# GTK Exploration\n",
    "\n",
    "Trying to familiarize myself with the PyGObject library, and with GTK in general"
   ]
  },
  {
   "cell_type": "code",
   "execution_count": 11,
   "id": "sticky-cartoon",
   "metadata": {},
   "outputs": [],
   "source": [
    "import gi\n",
    "gi.require_version('Gtk', '3.0')\n",
    "from gi.repository import Gtk"
   ]
  },
  {
   "cell_type": "markdown",
   "id": "multiple-paint",
   "metadata": {},
   "source": [
    "Going to make a GTK Window subclass to explore displaying pandas DataFrames"
   ]
  },
  {
   "cell_type": "code",
   "execution_count": 16,
   "id": "sapphire-family",
   "metadata": {},
   "outputs": [],
   "source": [
    "class PandasTesterWindow(Gtk.Window): \n",
    "    def __init__(self): \n",
    "  \n",
    "        super().__init__(title =\"Pandas Testing\") \n",
    "        \n",
    "        \n",
    "        self.grid = Gtk.Grid()\n",
    "        \n",
    "  \n",
    "    # When we click on the button this method \n",
    "    # will be called \n",
    "    def on_button_clicked(self, widget): \n",
    "        print(\"Geeks for Geeks\") \n",
    "        \n",
    "    def on_button_clicked2(self, widget):\n",
    "        print(\"you shouldn't have done that\")\n",
    "  \n",
    "  \n",
    "win = PandasTesterWindow() \n",
    "win.connect(\"destroy\", Gtk.main_quit)\n",
    "win.show_all()\n",
    "Gtk.main() "
   ]
  },
  {
   "cell_type": "code",
   "execution_count": null,
   "id": "mobile-permit",
   "metadata": {},
   "outputs": [],
   "source": []
  }
 ],
 "metadata": {
  "kernelspec": {
   "display_name": "jakerenv",
   "language": "python",
   "name": "jakerenv"
  },
  "language_info": {
   "codemirror_mode": {
    "name": "ipython",
    "version": 3
   },
   "file_extension": ".py",
   "mimetype": "text/x-python",
   "name": "python",
   "nbconvert_exporter": "python",
   "pygments_lexer": "ipython3",
   "version": "3.8.5"
  }
 },
 "nbformat": 4,
 "nbformat_minor": 5
}
